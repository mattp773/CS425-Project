{
 "cells": [
  {
   "cell_type": "code",
   "execution_count": 1,
   "metadata": {},
   "outputs": [
    {
     "name": "stdout",
     "output_type": "stream",
     "text": [
      "1.2.0\n"
     ]
    }
   ],
   "source": [
    "import numpy as np\n",
    "import pandas as pd\n",
    "import matplotlib.pyplot as plt\n",
    "\n",
    "from sklearn.model_selection import train_test_split\n",
    "from sklearn.metrics import accuracy_score\n",
    "\n",
    "from sklearn import tree\n",
    "from sklearn.ensemble import RandomForestClassifier\n",
    "from sklearn.model_selection import KFold, GridSearchCV\n",
    "\n",
    "from imblearn.over_sampling import SMOTE\n",
    "\n",
    "import sklearn\n",
    "print(sklearn.__version__)\n",
    "\n",
    "\n",
    "plt.rcParams[\"figure.figsize\"] = (30, 10)\n",
    "plt.rcParams[\"font.size\"] = 18\n"
   ]
  },
  {
   "cell_type": "code",
   "execution_count": 2,
   "metadata": {},
   "outputs": [
    {
     "name": "stdout",
     "output_type": "stream",
     "text": [
      "0        68991\n",
      "1         2439\n",
      "2         2319\n",
      "3          888\n",
      "4         2934\n",
      "         ...  \n",
      "12619        0\n",
      "12620        0\n",
      "12621        0\n",
      "12622        0\n",
      "12623        0\n",
      "Name: RecommendationCount, Length: 12624, dtype: int64\n"
     ]
    }
   ],
   "source": [
    "steam_df = pd.read_csv(\"Data/steam/games-features-edit.csv\")\n",
    "\n",
    "print(steam_df['RecommendationCount'])"
   ]
  },
  {
   "cell_type": "code",
   "execution_count": 3,
   "metadata": {},
   "outputs": [],
   "source": [
    "# # extract the metacritic score, recommendation count, and name of the game\n",
    "# steam_df = steam_df[['Metacritic', 'RecommendationCount', 'GenreIsNonGame']]\n",
    "# # drop rows with missing values\n",
    "# steam_df = steam_df.dropna()\n",
    "# # drop rows with 0 recommendation count\n",
    "# steam_df = steam_df[steam_df['RecommendationCount'] != 0]\n",
    "# # drop rows with 0 metacritic score\n",
    "# steam_df = steam_df[steam_df['Metacritic'] != 0]\n",
    "\n",
    "# steam_df = steam_df[steam_df['GenreIsNonGame'] == False]\n",
    "\n",
    "\n",
    "# #remove outliers from recommendation count\n",
    "# steam_df = steam_df[steam_df['RecommendationCount'] < 100000]\n",
    "# # steam_df = steam_df[steam_df['PriceInitial'] < 80]\n",
    "# print(len(steam_df))\n",
    "\n",
    "# plt.scatter(steam_df['Metacritic'], steam_df['RecommendationCount'])\n",
    "# plt.xlabel('Metacritic Score')\n",
    "# plt.ylabel('PriceInitial')\n",
    "# # plt.xticks(fontsize=18)\n",
    "# # plt.yticks(fontsize=18)\n",
    "# plt.show()\n"
   ]
  },
  {
   "cell_type": "code",
   "execution_count": 4,
   "metadata": {},
   "outputs": [],
   "source": [
    "def select_genres(genres_list, df):\n",
    "\tdf = df[(df['Genre'] == 'GenreIs' + genres_list[0]) | (df['Genre'] == 'GenreIs' + genres_list[1])]\n",
    "\treturn df"
   ]
  },
  {
   "cell_type": "code",
   "execution_count": 5,
   "metadata": {},
   "outputs": [],
   "source": [
    "#make a new dataframe with only the ResponseName, ReleaseDate, Metacritic, RecommendationCount, IsFree, and PriceInitial\n",
    "newDF = steam_df[['ResponseName', 'ReleaseDate', 'Metacritic', 'RecommendationCount', 'IsFree', 'PriceInitial']]\n",
    "\n",
    "genres = [\"GenreIsIndie\",\"GenreIsAction\",\"GenreIsAdventure\",\"GenreIsCasual\",\"GenreIsStrategy\",\"GenreIsRPG\",\"GenreIsSimulation\",\"GenreIsEarlyAccess\",\"GenreIsFreeToPlay\",\"GenreIsSports\",\"GenreIsRacing\",\"GenreIsMassivelyMultiplayer\"]\n",
    "temp = []\n",
    "\n",
    "rows_genres = []\n",
    "\n",
    "for index, row in steam_df.iterrows():\n",
    "\tfor genre in genres:\n",
    "\t\tif row[genre] == 1:\n",
    "\t\t\ttemp.append(genre)\n",
    "\tif len(temp)==1:\n",
    "\t\trows_genres.append(temp[0])\n",
    "\ttemp = []\n",
    "\n",
    "def init_df(genres_to_use, rows_genres, df):\n",
    "\t# print((rows_genres))\n",
    "\tgenresDF = pd.DataFrame(rows_genres, columns = ['Genre'], dtype=str)\n",
    "\tgenresDF = select_genres(genres_to_use, genresDF)\n",
    "\n",
    "\tdf = pd.concat([df, genresDF], axis=1)\n",
    "\tdf = df.dropna(subset=['Genre'])\n",
    "\tdf = df[df['Metacritic'] != 0]\n",
    "\t# print(len(df['Genre']))\n",
    "\n",
    "\treturn df\n",
    "\n"
   ]
  },
  {
   "cell_type": "code",
   "execution_count": 6,
   "metadata": {},
   "outputs": [],
   "source": [
    "\n",
    "def plot_genres(df):\n",
    "    #plot the genres and their recommendation counts\n",
    "    fig, ax = plt.subplots(1,3)\n",
    "    ax[0].scatter(df['Genre'], df['PriceInitial'])\n",
    "    ax[0].set_xlabel('Genre')\n",
    "    ax[0].set_ylabel('PriceInitial')\n",
    "    ax[1].scatter(df['Genre'], df['RecommendationCount'])\n",
    "    ax[1].set_xlabel('Genre')\n",
    "    ax[1].set_ylabel('RecommendationCount')\n",
    "    ax[2].scatter(df['Genre'], df['Metacritic'])\n",
    "    ax[2].set_xlabel('Genre')\n",
    "    ax[2].set_ylabel('Metacritic')\n",
    "    plt.show()\n"
   ]
  },
  {
   "cell_type": "code",
   "execution_count": 7,
   "metadata": {},
   "outputs": [],
   "source": [
    "#split the data into training and testing sets\n",
    "def train_set(df):\n",
    "    X = df[['Metacritic', 'RecommendationCount', 'PriceInitial']]\n",
    "    y = df['Genre']\n",
    "    X_train, X_test, y_train, y_test = train_test_split(X, y, test_size=0.2, train_size=0.8, random_state=42)\n",
    "\n",
    "    sm = SMOTE(random_state=42)\n",
    "    X_train, y_train = sm.fit_resample(X_train, y_train)\n",
    "\n",
    "    # create a k-fold cross validation iterator\n",
    "    kfold = KFold(n_splits=10, random_state=42, shuffle=True)\n",
    "\n",
    "    # define the grid of hyperparameters to search over\n",
    "    param_grid = {\n",
    "        \"n_estimators\": [100, 200, 300, 400, 500],\n",
    "        \"max_depth\": [5, 10, 15, 20, 25],\n",
    "        \"min_samples_split\": [2, 5, 10, 15, 20],\n",
    "        \"random_state\": [42]\n",
    "    }\n",
    "\n",
    "    # create the random forest classifier\n",
    "    clf = RandomForestClassifier()\n",
    "\n",
    "    # create a grid search object to find the best hyperparameters\n",
    "    grid_search = GridSearchCV(estimator=clf, param_grid=param_grid, cv=kfold, n_jobs=-1)\n",
    "\n",
    "    # fit the grid search on the data\n",
    "    grid_search.fit(X_train, y_train)\n",
    "\n",
    "\n",
    "    # print the best hyperparameters found\n",
    "    return grid_search.best_estimator_, X_test, y_test, X_train, y_train\n"
   ]
  },
  {
   "cell_type": "code",
   "execution_count": 8,
   "metadata": {},
   "outputs": [],
   "source": [
    "def random_forest(genres_to_use, rows_genres, newDF):\n",
    "    df = init_df(genres_to_use, rows_genres, newDF)\n",
    "    # plot_genres(df)\n",
    "    rfc, X_test, y_test, X_train, y_train = train_set(df)\n",
    "    cf = RandomForestClassifier(n_estimators=rfc.n_estimators, random_state=rfc.random_state, max_depth=rfc.max_depth, min_samples_split=rfc.min_samples_split)\n",
    "    cf.fit(X_train, y_train)\n",
    "    y_pred = cf.predict(X_train)\n",
    "    print(accuracy_score(y_train, y_pred))\n",
    "\n",
    "    y_pred = cf.predict(X_test)\n",
    "    print(accuracy_score(y_test, y_pred))\n"
   ]
  },
  {
   "cell_type": "code",
   "execution_count": 9,
   "metadata": {},
   "outputs": [
    {
     "name": "stdout",
     "output_type": "stream",
     "text": [
      "Indie vs Action\n",
      "0.9725274725274725\n",
      "0.5784313725490197\n",
      "Indie vs Simulation\n",
      "0.9854014598540146\n",
      "0.5\n",
      "Indie vs Strategy\n",
      "0.9316770186335404\n",
      "0.5342465753424658\n",
      "Action vs Simulation\n",
      "0.9869888475836431\n",
      "0.6595744680851063\n"
     ]
    }
   ],
   "source": [
    "print(\"Indie vs Action\")\n",
    "random_forest([\"Indie\",\"Action\"], rows_genres, newDF)\n",
    "\n",
    "print(\"Indie vs Simulation\")\n",
    "random_forest([\"Indie\",\"Simulation\"], rows_genres, newDF)\n",
    "\n",
    "print(\"Indie vs Strategy\")\n",
    "random_forest([\"Indie\",\"Strategy\"], rows_genres, newDF)\n",
    "\n",
    "print(\"Action vs Simulation\")\n",
    "random_forest([\"Action\",\"Simulation\"], rows_genres, newDF)"
   ]
  },
  {
   "cell_type": "code",
   "execution_count": null,
   "metadata": {},
   "outputs": [],
   "source": []
  }
 ],
 "metadata": {
  "kernelspec": {
   "display_name": "Python 3.9.12 ('base')",
   "language": "python",
   "name": "python3"
  },
  "language_info": {
   "codemirror_mode": {
    "name": "ipython",
    "version": 3
   },
   "file_extension": ".py",
   "mimetype": "text/x-python",
   "name": "python",
   "nbconvert_exporter": "python",
   "pygments_lexer": "ipython3",
   "version": "3.9.13"
  },
  "orig_nbformat": 4,
  "vscode": {
   "interpreter": {
    "hash": "412d8dc3b304667d59a1c2eb97fd6c23f291fc2d687a8f2e5a8cfefb5ac50600"
   }
  }
 },
 "nbformat": 4,
 "nbformat_minor": 2
}
