{
 "cells": [
  {
   "cell_type": "code",
   "execution_count": 30,
   "metadata": {},
   "outputs": [],
   "source": [
    "import numpy as np\n",
    "import pandas as pd\n",
    "import matplotlib.pyplot as plt\n",
    "\n",
    "from sklearn.model_selection import train_test_split\n",
    "from sklearn.metrics import accuracy_score\n",
    "\n",
    "plt.rcParams[\"figure.figsize\"] = (20, 10)\n"
   ]
  },
  {
   "cell_type": "code",
   "execution_count": 31,
   "metadata": {},
   "outputs": [],
   "source": [
    "steam_df = pd.read_csv(\"Data/steam/games-features-edit.csv\")\n"
   ]
  },
  {
   "cell_type": "code",
   "execution_count": 32,
   "metadata": {},
   "outputs": [],
   "source": [
    "# # extract the metacritic score, recommendation count, and name of the game\n",
    "# steam_df = steam_df[['Metacritic', 'RecommendationCount']]\n",
    "# # drop rows with missing values\n",
    "# steam_df = steam_df.dropna()\n",
    "# # drop rows with 0 recommendation count\n",
    "# steam_df = steam_df[steam_df['RecommendationCount'] != 0]\n",
    "# # drop rows with 0 metacritic score\n",
    "# steam_df = steam_df[steam_df['Metacritic'] != 0]\n",
    "\n",
    "\n",
    "# #remove outliers from recommendation count\n",
    "# steam_df = steam_df[steam_df['RecommendationCount'] < 100000]\n",
    "# # steam_df = steam_df[steam_df['PriceInitial'] < 80]\n",
    "# print(len(steam_df))\n",
    "\n",
    "# plt.scatter(steam_df['Metacritic'], steam_df['RecommendationCount'])\n",
    "# plt.xlabel('Metacritic Score', fontsize=18)\n",
    "# plt.ylabel('PriceInitial', fontsize=18)\n",
    "# plt.xticks(fontsize=18)\n",
    "# plt.yticks(fontsize=18)\n",
    "# plt.show()\n"
   ]
  },
  {
   "cell_type": "code",
   "execution_count": 196,
   "metadata": {},
   "outputs": [],
   "source": [
    "#make a new dataframe with only the ResponseName, ReleaseDate, Metacritic, RecommendationCount, IsFree, and PriceInitial\n",
    "newDF = steam_df[['ResponseName', 'ReleaseDate', 'Metacritic', 'RecommendationCount', 'IsFree', 'PriceInitial']]\n",
    "\n",
    "\n",
    "# newDF = steam_df[[\"ResponseName\",\"ReleaseDate\",\"Metacritic\",\"RecommendationCount\",\"IsFree\", \"PriceInitial\"]]\n",
    "#add a column for the genre\n",
    "#how to add a column to a dataframe\n",
    "\n",
    "genres = [\"GenreIsIndie\",\"GenreIsAction\",\"GenreIsAdventure\",\"GenreIsCasual\",\"GenreIsStrategy\",\"GenreIsRPG\",\"GenreIsSimulation\",\"GenreIsEarlyAccess\",\"GenreIsFreeToPlay\",\"GenreIsSports\",\"GenreIsRacing\",\"GenreIsMassivelyMultiplayer\"]\n",
    "temp = []\n",
    "\n",
    "rows_genres = []\n",
    "\n",
    "for index, row in steam_df.iterrows():\n",
    "\t# print(row)\n",
    "\tfor genre in genres:\n",
    "\t\tif row[genre] == 1:\n",
    "\t\t\ttemp.append(genre)\n",
    "\trows_genres.append(tuple(temp))\n",
    "\ttemp = []\n",
    "# np.array(rows_genres, dtype=object)\n",
    "#create a new dataframe with the genres\n",
    "\n",
    "#add the genre column to the new dataframe\n",
    "\n",
    "# newDF['Genre'] = rows_genres\n",
    "#create a dataframe out of the rows_genres list\n",
    "genresDF = pd.DataFrame(np.transpose(np.array(rows_genres, dtype=object)), columns = ['Genre'])\n",
    "# print(genresDF)\n",
    "#drop rows with less than 2 genres\n",
    "genresDF = genresDF[(genresDF['Genre'].map(len) > 0)]\n",
    "#remove rows whose only genre is non-game\n",
    "# genresDF = genresDF[genresDF['Genre'] != 'GenreIsNonGame']\n",
    "\n",
    "# print(genresDF)\n",
    "newDF = pd.concat([newDF, genresDF], axis=1)\n",
    "# newDF = newDF.rename(columns={0: \"Genre\"})\n",
    "# print(newDF.columns)\n",
    "\n",
    "# print(newDF.columns)\n",
    "\n",
    "sorted_df = newDF.sort_values(by=['Genre', 'ResponseName'], ascending=[True, True])\n",
    "\n",
    "sorted_df.dropna(inplace=True, subset=['Genre'])\n",
    "\n",
    "\n",
    "\n",
    "\n",
    "\n",
    "i = 1\n",
    "\n",
    "with open('genres.txt', 'w') as f:\n",
    "\tfor item in sorted_df[\"Genre\"]:\n",
    "\t\tname = sorted_df[\"ResponseName\"].iloc[i - 1]\n",
    "\t\tf.write(\"%7s %50s %25s \\n\" % (i, name, item))\n",
    "\t\ti += 1\n"
   ]
  }
 ],
 "metadata": {
  "kernelspec": {
   "display_name": "Python 3.9.12 ('base')",
   "language": "python",
   "name": "python3"
  },
  "language_info": {
   "codemirror_mode": {
    "name": "ipython",
    "version": 3
   },
   "file_extension": ".py",
   "mimetype": "text/x-python",
   "name": "python",
   "nbconvert_exporter": "python",
   "pygments_lexer": "ipython3",
   "version": "3.9.12"
  },
  "orig_nbformat": 4,
  "vscode": {
   "interpreter": {
    "hash": "412d8dc3b304667d59a1c2eb97fd6c23f291fc2d687a8f2e5a8cfefb5ac50600"
   }
  }
 },
 "nbformat": 4,
 "nbformat_minor": 2
}
