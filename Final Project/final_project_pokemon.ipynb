{
 "cells": [
  {
   "cell_type": "code",
   "execution_count": null,
   "metadata": {},
   "outputs": [],
   "source": [
    "import numpy as np\n",
    "import pandas as pd\n",
    "import matplotlib.pyplot as plt\n",
    "\n",
    "from sklearn.model_selection import train_test_split\n",
    "from sklearn.metrics import accuracy_score\n",
    "\n",
    "plt.rcParams[\"figure.figsize\"] = (40,40)\n"
   ]
  },
  {
   "cell_type": "code",
   "execution_count": null,
   "metadata": {},
   "outputs": [],
   "source": [
    "poke_df = pd.read_csv(\"data/pokemon/Pokemon.csv\")"
   ]
  },
  {
   "cell_type": "markdown",
   "metadata": {},
   "source": [
    "### Potential Question\n",
    "\n",
    "Can we predict the type of a pokemon based on any two (or maybe 3) of its stats?"
   ]
  },
  {
   "cell_type": "code",
   "execution_count": null,
   "metadata": {},
   "outputs": [],
   "source": [
    "# extract the rows with generation 1 pokemon, and isolate the type 1, HP, and attack columns\n",
    "# exclude pokemon with name \"Mega\" in them\n",
    "stats = [\"HP\", \"Attack\", \"Defense\", \"Sp. Atk\", \"Sp. Def\", \"Speed\"]\n",
    "\n",
    "gen1_df = poke_df[poke_df[\"Generation\"] == 1]\n",
    "gen1_df = gen1_df[gen1_df[\"Name\"].str.contains(\"Mega\") == False]\n",
    "gen1_df.replace(to_replace=\"Fairy\", value=\"Normal\", inplace=True)\n",
    "gen1_df.replace(to_replace=[\"Bug\", \"Dragon\", \"Electric\", \"Fighting\", \"Fire\", \"Ghost\", \"Grass\", \"Ground\", \"Ice\", \"Normal\", \"Poison\", \"Psychic\", \"Rock\", \"Water\"], value=[0, 1, 2, 3, 4, 5, 6, 7, 8, 9, 10, 11, 12, 13], inplace=True)\n",
    "\n"
   ]
  },
  {
   "cell_type": "code",
   "execution_count": null,
   "metadata": {},
   "outputs": [],
   "source": [
    "# loop through each pair of stats and plot them against the type\n",
    "\n",
    "def plot_pair(stats):\n",
    "    plt.scatter(gen1_df[stats[0]], gen1_df[\"Type 1\"])\n",
    "    plt.scatter(gen1_df[stats[1]], gen1_df[\"Type 1\"])\n",
    "    plt.xlabel(f\"{stats[0]} and {stats[1]}\")\n",
    "    plt.yticks([0, 1, 2, 3, 4, 5, 6, 7, 8, 9, 10, 11, 12, 13], [\"Bug\", \"Dragon\", \"Electric\", \"Fighting\", \"Fire\", \"Ghost\", \"Grass\", \"Ground\", \"Ice\", \"Normal\", \"Poison\", \"Psychic\", \"Rock\", \"Water\"])\n",
    "    plt.ylabel(\"type\")\n",
    "    #add a legend to the plot\n",
    "    plt.legend([stats[0], stats[1]])\n",
    "    plt.show()\n",
    "\n"
   ]
  },
  {
   "cell_type": "code",
   "execution_count": null,
   "metadata": {},
   "outputs": [],
   "source": [
    "#run this to do all pairs of stats:\n",
    "for i in range(len(stats)):\n",
    "    for j in range(i+1, len(stats)):\n",
    "        plot_pair([stats[i], stats[j]])\n",
    "\n",
    "\n",
    "# run this to see stat totals:\n",
    "\n",
    "# plt.scatter(gen1_df[\"Total\"], gen1_df[\"Type 1\"])\n",
    "# plt.xlabel(\"Total Stats\")\n",
    "# plt.yticks([0, 1, 2, 3, 4, 5, 6, 7, 8, 9, 10, 11, 12, 13], [\"Bug\", \"Dragon\", \"Electric\", \"Fighting\", \"Fire\", \"Ghost\", \"Grass\", \"Ground\", \"Ice\", \"Normal\", \"Poison\", \"Psychic\", \"Rock\", \"Water\"])\n",
    "# plt.ylabel(\"Type\")\n",
    "# plt.show()"
   ]
  }
 ],
 "metadata": {
  "kernelspec": {
   "display_name": "Python 3.10.6 ('cs425-env': venv)",
   "language": "python",
   "name": "python3"
  },
  "language_info": {
   "codemirror_mode": {
    "name": "ipython",
    "version": 3
   },
   "file_extension": ".py",
   "mimetype": "text/x-python",
   "name": "python",
   "nbconvert_exporter": "python",
   "pygments_lexer": "ipython3",
   "version": "3.10.6"
  },
  "orig_nbformat": 4,
  "vscode": {
   "interpreter": {
    "hash": "a01de260c0729a286c697a16dbeb91e0144f3d374b7a8e19e08a97d02f9515a2"
   }
  }
 },
 "nbformat": 4,
 "nbformat_minor": 2
}
